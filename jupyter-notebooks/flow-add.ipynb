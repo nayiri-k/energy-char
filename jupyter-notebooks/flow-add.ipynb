{
 "cells": [
  {
   "cell_type": "markdown",
   "metadata": {},
   "source": [
    "# Add flow\n",
    "\n",
    "    syn to see what timing is --> CLOCK PERIOD\n",
    "    power-rtl to generate checkpoint\n",
    "\n",
    "    generate testbench (vectors, clock period)\n",
    "    sim-rtl\n",
    "    redo-power-rtl (load checkpoint)\n"
   ]
  },
  {
   "cell_type": "code",
   "execution_count": 1,
   "metadata": {},
   "outputs": [],
   "source": [
    "import yaml\n",
    "import os\n",
    "import matplotlib.pyplot as plt\n",
    "import numpy as np\n",
    "\n",
    "\n",
    "design='add8'\n",
    "pdk='sky130'\n",
    "# pdk='intech22'\n",
    "tools='cm'\n",
    "\n",
    "dut_instance='adder0'\n",
    "\n",
    "# e2e_dir=\"/tools/scratch/nayiri/energy/hammer-energy-sep23/e2e\"\n",
    "root_dir=\"/tools/scratch/nayiri/energy/energy-char\"\n",
    "build_dir=f\"{root_dir}/build-{pdk}-{tools}/{design}\"\n",
    "out_dir=\"/tools/scratch/nayiri/energy/out\"\n",
    "jpower_reports_dir = f\"{out_dir}/jpower-reports/{design}-{pdk}\"\n",
    "generated_src_dir = f\"{root_dir}/generated-src\"\n",
    "generated_configs_dir = f\"{root_dir}/generated-configs\"\n",
    "\n",
    "os.makedirs(generated_src_dir, exist_ok=True)\n",
    "os.makedirs(generated_configs_dir, exist_ok=True)\n"
   ]
  },
  {
   "cell_type": "markdown",
   "metadata": {},
   "source": [
    "## Useful Functions"
   ]
  },
  {
   "cell_type": "code",
   "execution_count": 2,
   "metadata": {},
   "outputs": [],
   "source": [
    "def get_test_name(tb_name):\n",
    "    args = tb_name.replace('_-','_n').split('-')\n",
    "    in0_args = args[1].split('_')\n",
    "    in1_args = args[2].split('_')\n",
    "    in0_initial = in0_args[1].replace('n','-')\n",
    "    in0 = in0_args[2].replace('n','-')\n",
    "    in1_initial = in1_args[1].replace('n','-')\n",
    "    in1 = in1_args[2].replace('n','-')\n",
    "    ret = f\"({in0_initial},{in1_initial}) -> ({in0} + {in1})\"\n",
    "    return ret\n",
    "\n",
    "\n",
    "def generate_verilog(in_vals, in_initial=(0,0), CLOCK_PERIOD=1):\n",
    "    in0_initial,in1_initial = in_initial\n",
    "    in0,in1 = in_vals\n",
    "    tb_name=f\"add8-in0_{in0_initial}_{in0}-in1_{in1_initial}_{in1}\"\n",
    "    verilog=f\"\"\"\\\n",
    "    `timescale 1ns/10ps\n",
    "\n",
    "    `define WIDTH 8\n",
    "\n",
    "    module add8_tb;\n",
    "\n",
    "        reg clk = 0;\n",
    "        always #({CLOCK_PERIOD}/2.0) clk = ~clk;\n",
    "\n",
    "        reg [`WIDTH-1:0] in0, in1;\n",
    "        wire [`WIDTH-1:0] out;\n",
    "\n",
    "        add8 add8_dut ( .clock(clk), .in0(in0), .in1(in1), .out(out) );\n",
    "\n",
    "        initial begin\n",
    "            in0 = {'-' if in0_initial < 0 else ''}`WIDTH'd{abs(in0_initial)}; in1 = {'-' if in1_initial < 0 else ''}`WIDTH'd{abs(in1_initial)};\n",
    "            @(negedge clk);\n",
    "            $fsdbDumpfile(\"{tb_name}.fsdb\"); $fsdbDumpvars(\"+all\"); $fsdbDumpon;\n",
    "            in0 = {'-' if in0 < 0 else ''}`WIDTH'd{abs(in0)}; in1 = {'-' if in1 < 0 else ''}`WIDTH'd{abs(in1)};\n",
    "            @(posedge clk); @(negedge clk);\n",
    "            $fsdbDumpoff; $finish;\n",
    "        end\n",
    "    endmodule\n",
    "    \"\"\"\n",
    "\n",
    "    with open(f\"{generated_src_dir}/{tb_name}.v\",'w') as f:\n",
    "        f.write(verilog)\n",
    "    return tb_name\n",
    "\n",
    "\n",
    "\n",
    "def generate_config(tb_name):\n",
    "    cfg = {\n",
    "        'vlsi.core.power_tool': \"hammer.power.joules\",\n",
    "\n",
    "        'power.inputs':\n",
    "        {\n",
    "            'level': 'rtl',\n",
    "            'input_files': [\"src/add8.v\"],\n",
    "            'top_module': \"add8\",\n",
    "            'tb_name': \"add8_tb\",\n",
    "            'tb_dut': \"add8_dut\",\n",
    "            'waveforms': [],\n",
    "            # 'waveforms': [\"build-intech22-cm/add8/sim-rtl-rundir/output.fsdb\"],\n",
    "            'report_configs':[\n",
    "                {\n",
    "                # 'waveform_path': f\"{build_dir}/sim-rtl-rundir/{tb_name}.fsdb\",\n",
    "                'waveform_path': f\"{root_dir}/build-{pdk}-{tools}/{tb_name}/sim-rtl-rundir/{tb_name}.fsdb\",\n",
    "                # 'interval_size': '0.5ns',\n",
    "                'toggle_signal': 'clock',\n",
    "                'num_toggles': 1,\n",
    "                'report_name': tb_name,\n",
    "                'output_formats': ['plot_profile', 'report']\n",
    "                }\n",
    "            ]\n",
    "        },\n",
    "        'power.inputs.power_spec': \"auto\",\n",
    "        # sim clock has to match synthesized clock period\n",
    "        'sim.inputs':\n",
    "        {\n",
    "            'input_files': ['src/add8.v', f'{generated_src_dir}/{tb_name}.v'],\n",
    "            'defines': [\"CLOCK_PERIOD=1\"],\n",
    "            'defines_meta': 'append',\n",
    "            'options': ['-timescale=1ns/10ps'],\n",
    "            'options_meta': 'append',\n",
    "        },\n",
    "        'vlsi.inputs.clocks': [\n",
    "            {'name': \"clock\", 'period': \"1ns\", 'uncertainty': \"10ps\"}\n",
    "        ]\n",
    "    }\n",
    "    with open(f\"{generated_configs_dir}/{tb_name}.yml\",'w') as f:\n",
    "        yaml.dump(cfg,f,sort_keys=False)\n"
   ]
  },
  {
   "cell_type": "code",
   "execution_count": 3,
   "metadata": {},
   "outputs": [
    {
     "name": "stdout",
     "output_type": "stream",
     "text": [
      "\n",
      "make syn design=add8 pdk=sky130 -B\n",
      "make power-rtl design=add8 pdk=sky130 -B\n",
      "\n"
     ]
    }
   ],
   "source": [
    "# one-time design setup\n",
    "print(f\"\"\"\n",
    "make syn design={design} pdk={pdk} -B\n",
    "make power-rtl design={design} pdk={pdk} -B\n",
    "\"\"\")"
   ]
  },
  {
   "cell_type": "code",
   "execution_count": 4,
   "metadata": {},
   "outputs": [
    {
     "name": "stdout",
     "output_type": "stream",
     "text": [
      "bsubq 'make sim-rtl design=add8 pdk=sky130 POWER_CONF=/tools/scratch/nayiri/energy/energy-char/generated-configs/add8-in0_81_19-in1_-2_-119.yml OBJ_DIR=build-sky130-cm/add8-in0_81_19-in1_-2_-119 && make redo-power-rtl step=\"--only_step report_power\" design=add8 pdk=sky130 POWER_CONF=/tools/scratch/nayiri/energy/energy-char/generated-configs/add8-in0_81_19-in1_-2_-119.yml'\n",
      "bsubq 'make sim-rtl design=add8 pdk=sky130 POWER_CONF=/tools/scratch/nayiri/energy/energy-char/generated-configs/add8-in0_83_-18-in1_-56_-4.yml OBJ_DIR=build-sky130-cm/add8-in0_83_-18-in1_-56_-4 && make redo-power-rtl step=\"--only_step report_power\" design=add8 pdk=sky130 POWER_CONF=/tools/scratch/nayiri/energy/energy-char/generated-configs/add8-in0_83_-18-in1_-56_-4.yml'\n"
     ]
    }
   ],
   "source": [
    "in0_initial=0\n",
    "in1_initial=0\n",
    "in0=7\n",
    "in1=6\n",
    "\n",
    "import random\n",
    "random.seed(10)\n",
    "\n",
    "tests = []\n",
    "\n",
    "def rand_pair():\n",
    "    return (random.randint(-127,127),random.randint(-127,127))\n",
    "\n",
    "for in_data in [(0,0),(85,85),rand_pair(),rand_pair()]:\n",
    "    for in_initial in [(0,0),(-86,-86),(-1,-1),rand_pair()]:\n",
    "        tb_name=generate_verilog(in_data,in_initial)\n",
    "        generate_config(tb_name)\n",
    "        cmd = \"\"\n",
    "        fsdb_path = f\"{root_dir}/build-{pdk}-{tools}/{tb_name}/sim-rtl-rundir/{tb_name}.fsdb\"\n",
    "        if not os.path.exists(fsdb_path):\n",
    "            cmd += f\"\"\"make sim-rtl design={design} pdk={pdk} POWER_CONF={generated_configs_dir}/{tb_name}.yml OBJ_DIR=build-{pdk}-{tools}/{tb_name}\"\"\"\n",
    "        rpt_path = f\"{build_dir}/power-rtl-rundir/reports/{tb_name}.power.rpt\"\n",
    "        if not os.path.exists(rpt_path):\n",
    "            if len(cmd) > 0: cmd += \" && \"\n",
    "            cmd += f\"\"\"make redo-power-rtl step=\"--only_step report_power\" design={design} pdk={pdk} POWER_CONF={generated_configs_dir}/{tb_name}.yml\"\"\"\n",
    "        if len(cmd) > 0:\n",
    "            print(f\"bsubq '{cmd}'\")\n",
    "        tests.append(tb_name)\n"
   ]
  },
  {
   "cell_type": "markdown",
   "metadata": {},
   "source": [
    "## Displaying results"
   ]
  },
  {
   "cell_type": "code",
   "execution_count": 5,
   "metadata": {},
   "outputs": [],
   "source": [
    "tests_dict = {t: {} for t in tests}"
   ]
  },
  {
   "cell_type": "code",
   "execution_count": 6,
   "metadata": {},
   "outputs": [
    {
     "data": {
      "text/plain": [
       "(29, 406.268)"
      ]
     },
     "execution_count": 6,
     "metadata": {},
     "output_type": "execute_result"
    }
   ],
   "source": [
    "### area\n",
    "with open(f\"{build_dir}/syn-rundir/reports/final_area.rpt\",'r') as f:\n",
    "    for line in f.readlines():\n",
    "        if line.strip().startswith(dut_instance) and len(line.split())==6:\n",
    "            words = line.split()\n",
    "            cell_count=int(words[2])\n",
    "            area=float(words[-1])\n",
    "\n",
    "cell_count,area"
   ]
  },
  {
   "cell_type": "code",
   "execution_count": 7,
   "metadata": {},
   "outputs": [
    {
     "name": "stdout",
     "output_type": "stream",
     "text": [
      "/tools/scratch/nayiri/energy/energy-char/build-sky130-cm/add8/power-rtl-rundir/reports/add8-in0_81_19-in1_-2_-119.hier.power.rpt\n",
      "/tools/scratch/nayiri/energy/energy-char/build-sky130-cm/add8/power-rtl-rundir/reports/add8-in0_83_-18-in1_-56_-4.hier.power.rpt\n"
     ]
    }
   ],
   "source": [
    "### avg power\n",
    "# todo: generate this earlier when generating joules yaml file\n",
    "for tb_name in tests_dict:\n",
    "    power_rpt_fpath = f\"{build_dir}/power-rtl-rundir/reports/{tb_name}.hier.power.rpt\"\n",
    "    if not os.path.exists(power_rpt_fpath):\n",
    "        print(power_rpt_fpath)\n",
    "        continue\n",
    "    with open(power_rpt_fpath,'r') as f:\n",
    "        for line in f.readlines():\n",
    "            if line.strip().endswith(f\"/{design}/{dut_instance}\") and len(line.split())==8:\n",
    "                words = line.split()\n",
    "                tests_dict[tb_name]['leakage_power'] = float(words[2])*1000\n",
    "                tests_dict[tb_name]['internal_power'] = float(words[3])*1000\n",
    "                tests_dict[tb_name]['switching_power'] = float(words[4])*1000\n",
    "                tests_dict[tb_name]['total_power'] = float(words[5])*1000\n",
    "\n",
    "# leakage_power, internal_power, switching_power, total_power"
   ]
  },
  {
   "cell_type": "code",
   "execution_count": 8,
   "metadata": {},
   "outputs": [
    {
     "data": {
      "text/plain": [
       "Text(-0.1, -1, '(Prev) -> (Current) Operands')"
      ]
     },
     "execution_count": 8,
     "metadata": {},
     "output_type": "execute_result"
    },
    {
     "data": {
      "image/png": "[encoded data removed]",
      "text/plain": [
       "<Figure size 640x480 with 1 Axes>"
      ]
     },
     "metadata": {},
     "output_type": "display_data"
    }
   ],
   "source": [
    "# tests_dict[tb_name] = {}\n",
    "# tests_dict[tb_name]['leakage_power'] = 0\n",
    "# tests_dict[tb_name]['internal_power'] = 0\n",
    "# tests_dict[tb_name]['switching_power'] = 0\n",
    "# tests_dict[tb_name]['total_power'] = 0\n",
    "tests_sorted = [t for _,t in sorted([(tests_dict[t]['total_power'],t) for t in tests_dict if 'total_power' in tests_dict[t]])]\n",
    "power_sorted = [tests_dict[t]['total_power'] for t in tests_sorted]\n",
    "switching = [tests_dict[t]['switching_power'] for t in tests_sorted]\n",
    "internal = [tests_dict[t]['internal_power'] for t in tests_sorted]\n",
    "names = list(map(get_test_name,tests_sorted))\n",
    "\n",
    "fig, ax = plt.subplots()\n",
    "\n",
    "y_pos = np.arange(len(names))\n",
    "\n",
    "# ax.barh(y_pos, power_sorted, align='center')\n",
    "ax.barh(y_pos, internal, align='center', color='g', label='Internal Power')\n",
    "ax.barh(y_pos, switching, left=internal, align='center', color='r', label='Switching Power')\n",
    "ax.set_yticks(y_pos, labels=names)\n",
    "ax.invert_yaxis()  # labels read top-to-bottom\n",
    "ax.set_xlabel('Power (nW)')\n",
    "ax.set_ylabel('Add8 Operands')\n",
    "plt.legend()\n",
    "tb_name = '(Prev) -> (Current) Operands'\n",
    "plt.text(-0.1,-1,tb_name,horizontalalignment='right',verticalalignment='center')\n",
    "# plt.show()"
   ]
  },
  {
   "cell_type": "code",
   "execution_count": null,
   "metadata": {},
   "outputs": [],
   "source": []
  },
  {
   "cell_type": "code",
   "execution_count": null,
   "metadata": {},
   "outputs": [],
   "source": []
  }
 ],
 "metadata": {
  "kernelspec": {
   "display_name": "ml",
   "language": "python",
   "name": "ml"
  },
  "language_info": {
   "codemirror_mode": {
    "name": "ipython",
    "version": 3
   },
   "file_extension": ".py",
   "mimetype": "text/x-python",
   "name": "python",
   "nbconvert_exporter": "python",
   "pygments_lexer": "ipython3",
   "version": "3.10.9"
  },
  "orig_nbformat": 4
 },
 "nbformat": 4,
 "nbformat_minor": 2
}
