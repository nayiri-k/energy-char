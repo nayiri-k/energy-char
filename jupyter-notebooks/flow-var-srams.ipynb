{
 "cells": [
  {
   "cell_type": "markdown",
   "metadata": {},
   "source": [
    "# Add flow\n",
    "\n",
    "    syn to see what timing is --> CLOCK PERIOD\n",
    "    power-rtl to generate checkpoint\n",
    "\n",
    "    generate testbench (vectors, clock period)\n",
    "    sim-rtl\n",
    "    redo-power-rtl (load checkpoint)\n"
   ]
  },
  {
   "cell_type": "code",
   "execution_count": 1,
   "metadata": {},
   "outputs": [],
   "source": [
    "import yaml\n",
    "import os\n",
    "import matplotlib.pyplot as plt\n",
    "import numpy as np\n",
    "\n",
    "\n",
    "design='sramtest'\n",
    "pdk='sky130'\n",
    "# pdk='intech22'\n",
    "tools='cm'\n",
    "\n",
    "dut_instance='sramtest_dut'\n",
    "\n",
    "root_dir=os.path.abspath(f\"{os.getcwd()}/../\")\n",
    "src_dir=f\"{root_dir}/src\"\n",
    "build_dir=f\"{root_dir}/build-{pdk}-{tools}/{design}\"\n",
    "out_dir=os.path.abspath(f\"{os.getcwd()}/../../out\")\n",
    "jpower_reports_dir = f\"{out_dir}/jpower-reports/{design}-{pdk}\"\n",
    "generated_src_dir = f\"{root_dir}/generated-src\"\n",
    "generated_configs_dir = f\"{root_dir}/generated-configs\"\n",
    "bsub=\"bsub -q normal\"\n",
    "overwrite=True\n",
    "\n",
    "os.makedirs(generated_src_dir, exist_ok=True)\n",
    "os.makedirs(generated_configs_dir, exist_ok=True)\n"
   ]
  },
  {
   "cell_type": "markdown",
   "metadata": {},
   "source": [
    "## Useful Functions"
   ]
  },
  {
   "cell_type": "code",
   "execution_count": 2,
   "metadata": {},
   "outputs": [],
   "source": [
    "def decode_sram(sram_name):\n",
    "    args = [int(i) for i in sram_name.replace('sram22_',  '').replace('x', ' ').replace('w', ' ').replace('m', ' ').split()]\n",
    "    addr_width = int(np.log2(args[0]))\n",
    "    data_width = args[1]\n",
    "    mux = args[2]\n",
    "    wmask_width = int(data_width / args[3])\n",
    "    size = int(args[0]*data_width/8)\n",
    "    return (addr_width, data_width, mux, wmask_width, size)\n",
    "\n",
    "def get_srams():\n",
    "    srams = [\"sram22_64x4m4w2\", \"sram22_64x32m4w8\", \"sram22_256x32m4w8\", \"sram22_512x32m4w8\", \"sram22_1024x32m8w8\", \"sram22_2048x32m8w8\", \"sram22_4096x32m8w8\"]\n",
    "    return srams \n",
    "\n",
    "def binarySize(tb_name):\n",
    "    return tb_name.split('-')[-1]\n",
    "\n",
    "\n",
    "def generate_sram(sram_name):\n",
    "    addr_width, data_width, mux, wmask_width, size = decode_sram(sram_name)\n",
    "    module = \"sramtest_\" + f\"{int(np.exp2(addr_width))}x{data_width}_{size}B\"\n",
    "    verilog=f\"\"\"\\\n",
    "    module {module} (\n",
    "        clock,we,wmask,addr,din,dout\n",
    "    );\n",
    "\n",
    "    parameter DATA_WIDTH = {data_width};\n",
    "    parameter ADDR_WIDTH = {addr_width} ;\n",
    "    parameter WMASK_WIDTH = {wmask_width} ;\n",
    "    parameter RAM_DEPTH = 1 << ADDR_WIDTH;\n",
    "\n",
    "    input  clock; // clock\n",
    "    input  we; // write enable\n",
    "    input [WMASK_WIDTH-1:0] wmask; // write mask\n",
    "    input [ADDR_WIDTH-1:0]  addr; // address\n",
    "    input [DATA_WIDTH-1:0]  din; // data in\n",
    "    output [DATA_WIDTH-1:0] dout; // data out\n",
    "\n",
    "    // need these internal registers for sramtest module to synthesize properly\n",
    "    reg  we_reg; // write enable\n",
    "    reg [WMASK_WIDTH-1:0] wmask_reg; // write mask\n",
    "    reg [ADDR_WIDTH-1:0]  addr_reg; // address\n",
    "    reg [DATA_WIDTH-1:0]  din_reg; // data in\n",
    "    \n",
    "    always@(posedge clock) begin\n",
    "        we_reg <= we;\n",
    "        wmask_reg <= wmask;\n",
    "        addr_reg <= addr;\n",
    "        din_reg <= din;\n",
    "    end\n",
    "\n",
    "    {sram_name} mem0 (\n",
    "    .clk(clock),.we(we_reg),.wmask(wmask_reg),\n",
    "    .addr(addr_reg),.din(din_reg),.dout(dout)\n",
    "    );\n",
    "\n",
    "    endmodule\n",
    "    \"\"\"\n",
    "\n",
    "    with open(f\"{src_dir}/{module}.v\",'w') as f:\n",
    "        f.write(verilog)\n",
    "    return module\n",
    "\n",
    "def generate_verilog(sram_name,CLOCK_PERIOD=1):\n",
    "    addr_width, data_width, mux, wmask_width, size = decode_sram(sram_name)\n",
    "    module = \"sramtest_\" + f\"{int(np.exp2(addr_width))}x{data_width}_{size}B\"\n",
    "    tb_name= \"sramtest-\" + f\"{int(np.exp2(addr_width))}x{data_width}-{size}B\"\n",
    "    verilog=f\"\"\"\\\n",
    "    `timescale 1ns/10ps\n",
    "    \n",
    "    module sramtest_tb;\n",
    "\n",
    "        parameter DATA_WIDTH = {data_width} ;\n",
    "        parameter ADDR_WIDTH = {addr_width} ;\n",
    "        parameter WMASK_WIDTH = {wmask_width} ;\n",
    "        parameter RAM_DEPTH = 1 << ADDR_WIDTH;\n",
    "\n",
    "        reg clk = 0;\n",
    "        always #({CLOCK_PERIOD}/2.0) clk = ~clk;\n",
    "\n",
    "        reg  we; // write enable\n",
    "        reg [WMASK_WIDTH-1:0] wmask; // write mask\n",
    "        reg [ADDR_WIDTH-1:0]  addr; // address\n",
    "        reg [DATA_WIDTH-1:0]  din; // data in\n",
    "        wire [DATA_WIDTH-1:0] dout; // data out\n",
    "\n",
    "        {module} sramtest_dut (\n",
    "            .clock(clk),.we(we),.wmask(wmask),\n",
    "            .addr(addr),.din(din),.dout(dout)\n",
    "        );\n",
    "    \"\"\"\n",
    "    verilog += \"\"\"\\\n",
    "        initial begin\n",
    "            // reset - SRAM behavioral verilog resets all values to 0\n",
    "            din = {DATA_WIDTH{1'b1}}; wmask = {WMASK_WIDTH{1'b1}}; addr = {ADDR_WIDTH{'b0}}; we = 0'b0;\n",
    "            // load vals\n",
    "            @(negedge clk);\n",
    "            // enable SRAM write\n",
    "            we = 1'b1;\n",
    "            @(posedge clk); // we --> we_reg in sramtest\n",
    "            @(negedge clk);\n",
    "            $fsdbDumpfile(\"output.fsdb\"); $fsdbDumpvars(\"+all\"); $fsdbDumpon;\n",
    "            // perform SRAM write\n",
    "            @(posedge clk);\n",
    "            // stop dumping\n",
    "            @(negedge clk);\n",
    "            $display(\"Wrote %d to address %d\",din,addr);\n",
    "            $fsdbDumpoff;\n",
    "            // sanity check: re-read same value\n",
    "            we = 1'b0; // enable SRAM read\n",
    "            @(posedge clk); // we --> we_reg in sramtest\n",
    "            @(posedge clk); // perform SRAM read\n",
    "            @(negedge clk); // read out data\n",
    "            $display(\"Read %d from address %d\",dout,addr);\n",
    "            // $fsdbDumpoff;\n",
    "            $finish;\n",
    "        end\n",
    "\n",
    "    endmodule\n",
    "    \"\"\"\n",
    "    with open(f\"{generated_src_dir}/{tb_name}.v\",'w') as f:\n",
    "        f.write(verilog)\n",
    "    return tb_name\n",
    "\n",
    "\n",
    "\n",
    "def generate_config(tb_name, module):\n",
    "    cfg = {\n",
    "        'vlsi.core.power_tool': \"hammer.power.joules\",\n",
    "\n",
    "        'power.inputs':\n",
    "        {\n",
    "            'level': 'rtl',\n",
    "            'input_files': [f\"src/{module}.v\"],\n",
    "            'top_module': f\"{module}\",\n",
    "            'tb_name': \"sramtest_tb\",\n",
    "            'tb_dut': \"sramtest_dut\",\n",
    "            'waveforms': [],\n",
    "            # 'waveforms': [\"build-intech22-cm/add8/sim-rtl-rundir/output.fsdb\"],\n",
    "            'report_configs':[\n",
    "                {\n",
    "                # 'waveform_path': f\"{build_dir}/sim-rtl-rundir/{tb_name}.fsdb\",\n",
    "                'waveform_path': f\"{root_dir}/build-{pdk}-{tools}/{tb_name}/sim-rtl-rundir/output.fsdb\",\n",
    "                # 'interval_size': '0.5ns',\n",
    "                'toggle_signal': 'clock',\n",
    "                'num_toggles': 1,\n",
    "                'report_name': tb_name,\n",
    "                'output_formats': ['plot_profile', 'report']\n",
    "                }\n",
    "            ]\n",
    "        },\n",
    "        'power.inputs.power_spec': \"auto\",\n",
    "        # sim clock has to match synthesized clock period\n",
    "        'sim.inputs':\n",
    "        {\n",
    "            'input_files': [f'src/{module}.v', f'{generated_src_dir}/{tb_name}.v'],\n",
    "            'defines': [\"CLOCK_PERIOD=10\"],\n",
    "            'defines_meta': 'append',\n",
    "            'options': ['-timescale=1ns/10ps'],\n",
    "            'options_meta': 'append'\n",
    "        },\n",
    "        'synthesis.inputs': \n",
    "        {\n",
    "            'top_module': f\"{module}\",\n",
    "            'input_files': [f\"src/{module}.v\"]\n",
    "        },\n",
    "        'vlsi.inputs.clocks': [\n",
    "            {'name': \"clock\", 'period': \"10ns\", 'uncertainty': \"10ps\"}\n",
    "        ]\n",
    "    }\n",
    "    with open(f\"{generated_configs_dir}/{tb_name}.yml\",'w') as f:\n",
    "        yaml.dump(cfg,f,sort_keys=False)\n"
   ]
  },
  {
   "cell_type": "code",
   "execution_count": 3,
   "metadata": {},
   "outputs": [
    {
     "name": "stdout",
     "output_type": "stream",
     "text": [
      "\n",
      "make syn design=sramtest pdk=sky130 -B\n",
      "make power-rtl design=sramtest pdk=sky130 -B\n",
      "\n"
     ]
    }
   ],
   "source": [
    "# one-time design setup\n",
    "print(f\"\"\"\n",
    "make syn design={design} pdk={pdk} -B\n",
    "make power-rtl design={design} pdk={pdk} -B\n",
    "\"\"\")"
   ]
  },
  {
   "cell_type": "code",
   "execution_count": 4,
   "metadata": {},
   "outputs": [
    {
     "name": "stdout",
     "output_type": "stream",
     "text": [
      "make syn design=sramtest pdk=sky130 POWER_CONF=/bwrcq/scratch/vinaya/energy-char/generated-configs/sramtest-64x4-32B.yml OBJ_DIR=build-sky130-cm/sramtest-64x4-32B && make power-rtl design=sramtest pdk=sky130 POWER_CONF=/bwrcq/scratch/vinaya/energy-char/generated-configs/sramtest-64x4-32B.yml OBJ_DIR=build-sky130-cm/sramtest-64x4-32B\n",
      "make syn design=sramtest pdk=sky130 POWER_CONF=/bwrcq/scratch/vinaya/energy-char/generated-configs/sramtest-64x32-256B.yml OBJ_DIR=build-sky130-cm/sramtest-64x32-256B && make power-rtl design=sramtest pdk=sky130 POWER_CONF=/bwrcq/scratch/vinaya/energy-char/generated-configs/sramtest-64x32-256B.yml OBJ_DIR=build-sky130-cm/sramtest-64x32-256B\n",
      "make syn design=sramtest pdk=sky130 POWER_CONF=/bwrcq/scratch/vinaya/energy-char/generated-configs/sramtest-256x32-1024B.yml OBJ_DIR=build-sky130-cm/sramtest-256x32-1024B && make power-rtl design=sramtest pdk=sky130 POWER_CONF=/bwrcq/scratch/vinaya/energy-char/generated-configs/sramtest-256x32-1024B.yml OBJ_DIR=build-sky130-cm/sramtest-256x32-1024B\n",
      "make syn design=sramtest pdk=sky130 POWER_CONF=/bwrcq/scratch/vinaya/energy-char/generated-configs/sramtest-512x32-2048B.yml OBJ_DIR=build-sky130-cm/sramtest-512x32-2048B && make power-rtl design=sramtest pdk=sky130 POWER_CONF=/bwrcq/scratch/vinaya/energy-char/generated-configs/sramtest-512x32-2048B.yml OBJ_DIR=build-sky130-cm/sramtest-512x32-2048B\n",
      "make syn design=sramtest pdk=sky130 POWER_CONF=/bwrcq/scratch/vinaya/energy-char/generated-configs/sramtest-1024x32-4096B.yml OBJ_DIR=build-sky130-cm/sramtest-1024x32-4096B && make power-rtl design=sramtest pdk=sky130 POWER_CONF=/bwrcq/scratch/vinaya/energy-char/generated-configs/sramtest-1024x32-4096B.yml OBJ_DIR=build-sky130-cm/sramtest-1024x32-4096B\n",
      "make syn design=sramtest pdk=sky130 POWER_CONF=/bwrcq/scratch/vinaya/energy-char/generated-configs/sramtest-2048x32-8192B.yml OBJ_DIR=build-sky130-cm/sramtest-2048x32-8192B && make power-rtl design=sramtest pdk=sky130 POWER_CONF=/bwrcq/scratch/vinaya/energy-char/generated-configs/sramtest-2048x32-8192B.yml OBJ_DIR=build-sky130-cm/sramtest-2048x32-8192B\n",
      "make syn design=sramtest pdk=sky130 POWER_CONF=/bwrcq/scratch/vinaya/energy-char/generated-configs/sramtest-4096x32-16384B.yml OBJ_DIR=build-sky130-cm/sramtest-4096x32-16384B && make power-rtl design=sramtest pdk=sky130 POWER_CONF=/bwrcq/scratch/vinaya/energy-char/generated-configs/sramtest-4096x32-16384B.yml OBJ_DIR=build-sky130-cm/sramtest-4096x32-16384B\n"
     ]
    }
   ],
   "source": [
    "srams = get_srams()\n",
    "tests = []\n",
    "\n",
    "for sram in srams:\n",
    "\n",
    "    module = generate_sram(sram)\n",
    "    tb_name=generate_verilog(sram) \n",
    "    # print(f\"\"\"\n",
    "    # make syn design={module} pdk={pdk} -B\n",
    "    # make power-rtl design={module} pdk={pdk} -B\"\"\")\n",
    "    generate_config(tb_name, module)\n",
    "    cmd = \"\"\n",
    "    fsdb_path = f\"{root_dir}/build-{pdk}-{tools}/{tb_name}/sim-rtl-rundir/{tb_name}.fsdb\"\n",
    "    if overwrite or not os.path.exists(fsdb_path):\n",
    "        cmd += f\"\"\"make syn design=sramtest pdk={pdk} POWER_CONF={generated_configs_dir}/{tb_name}.yml OBJ_DIR=build-{pdk}-{tools}/{tb_name}\"\"\"\n",
    "    rpt_path = f\"{build_dir}/power-rtl-rundir/reports/{tb_name}.power.rpt\"\n",
    "    if overwrite or not os.path.exists(rpt_path):\n",
    "        if len(cmd) > 0: cmd += \" && \"\n",
    "        cmd += f\"\"\"make power-rtl design=sramtest pdk={pdk} POWER_CONF={generated_configs_dir}/{tb_name}.yml OBJ_DIR=build-{pdk}-{tools}/{tb_name}\"\"\"\n",
    "    if len(cmd) > 0:\n",
    "        # print(f\"{bsub} '{cmd}'\")\n",
    "        print(cmd)\n",
    "    tests.append(tb_name)\n"
   ]
  },
  {
   "cell_type": "markdown",
   "metadata": {},
   "source": [
    "## Displaying results"
   ]
  },
  {
   "cell_type": "code",
   "execution_count": 35,
   "metadata": {},
   "outputs": [],
   "source": [
    "tests_dict = {t: {} for t in tests}"
   ]
  },
  {
   "cell_type": "code",
   "execution_count": 36,
   "metadata": {},
   "outputs": [],
   "source": [
    "### gather power and area data for each clock period\n",
    "for tb_name in tests_dict:\n",
    "    power_rpt_fpath = f\"{root_dir}/build-{pdk}-{tools}/{tb_name}/power-rtl-rundir/reports/{tb_name}.hier.power.rpt\"\n",
    "    area_rpt_fpath  = f\"{root_dir}/build-{pdk}-{tools}/{tb_name}/syn-rundir/reports/final_area.rpt\"\n",
    "    if not os.path.exists(power_rpt_fpath):\n",
    "        print(power_rpt_fpath)\n",
    "        continue\n",
    "    if not os.path.exists(area_rpt_fpath):\n",
    "        print(area_rpt_fpath)\n",
    "        continue\n",
    "    with open(power_rpt_fpath,'r') as f:\n",
    "        for line in f.readlines():\n",
    "            if line.strip().endswith(f\"/{tb_name.replace('-', '_')}\") and len(line.split())==8:\n",
    "                words = line.split()\n",
    "                tests_dict[tb_name]['leakage_power'] = float(words[2])\n",
    "                tests_dict[tb_name]['internal_power'] = float(words[3])\n",
    "                tests_dict[tb_name]['switching_power'] = float(words[4])\n",
    "                tests_dict[tb_name]['total_power'] = float(words[5])\n",
    "    with open(area_rpt_fpath,'r') as f:\n",
    "        for line in f.readlines():\n",
    "            if line.strip().startswith(tb_name.replace('-', '_')) and len(line.split())==5:\n",
    "                words = line.split()\n",
    "                tests_dict[tb_name]['cell_count'] = int(words[1])\n",
    "                tests_dict[tb_name]['area'] = float(words[-1])\n",
    "\n",
    "#leakage_power, internal_power, switching_power, total_power, cell_area, Cell_count"
   ]
  },
  {
   "cell_type": "code",
   "execution_count": 38,
   "metadata": {},
   "outputs": [
    {
     "data": {
      "text/plain": [
       "<matplotlib.legend.Legend at 0x7f90f00036d0>"
      ]
     },
     "execution_count": 38,
     "metadata": {},
     "output_type": "execute_result"
    },
    {
     "data": {
      "image/png": "[encoded data removed]",
      "text/plain": [
       "<Figure size 640x480 with 1 Axes>"
      ]
     },
     "metadata": {},
     "output_type": "display_data"
    }
   ],
   "source": [
    "tests_sorted = [t for _,t in sorted([(tests_dict[t]['total_power'],t) for t in tests_dict if 'total_power' in tests_dict[t]])]\n",
    "power_sorted = [tests_dict[t]['total_power'] for t in tests_sorted]\n",
    "switching = [tests_dict[t]['switching_power'] for t in tests_sorted]\n",
    "internal = [tests_dict[t]['internal_power'] for t in tests_sorted]\n",
    "size = list(map(lambda x: int((binarySize(x)).replace('B', '')), tests_sorted))\n",
    "names = list(map(binarySize, tests_sorted))\n",
    "\n",
    "fig, ax = plt.subplots()\n",
    "\n",
    "y_pos = np.arange(len(names))\n",
    "\n",
    "# ax.barh(y_pos, power_sorted, align='center')\n",
    "ax.barh(y_pos, internal, align='center', color='g', label='Internal Power')\n",
    "ax.barh(y_pos, switching, left=internal, align='center', color='r', label='Switching Power')\n",
    "ax.set_yticks(y_pos, labels=names)\n",
    "ax.invert_yaxis()  # labels read top-to-bottom\n",
    "ax.set_xlabel('Power (mW)')\n",
    "ax.set_ylabel('Cache Size (B)')\n",
    "plt.legend()\n",
    "# plt.show()"
   ]
  },
  {
   "cell_type": "code",
   "execution_count": 39,
   "metadata": {},
   "outputs": [
    {
     "data": {
      "image/png": "[encoded data removed]",
      "text/plain": [
       "<Figure size 640x480 with 1 Axes>"
      ]
     },
     "metadata": {},
     "output_type": "display_data"
    }
   ],
   "source": [
    "fig, ax = plt.subplots()\n",
    "ax.scatter(size, power_sorted)\n",
    "\n",
    "ax.set(xlabel='Cache Size (B)', ylabel='Total Power (mW)',\n",
    "       title='Cache Size (B) vs Total Power (mW)')\n",
    "ax.grid()\n",
    "\n",
    "plt.show()"
   ]
  }
 ],
 "metadata": {
  "kernelspec": {
   "display_name": "Python 3",
   "language": "python",
   "name": "python3"
  },
  "language_info": {
   "codemirror_mode": {
    "name": "ipython",
    "version": 3
   },
   "file_extension": ".py",
   "mimetype": "text/x-python",
   "name": "python",
   "nbconvert_exporter": "python",
   "pygments_lexer": "ipython3",
   "version": "3.11.5"
  },
  "orig_nbformat": 4
 },
 "nbformat": 4,
 "nbformat_minor": 2
}
