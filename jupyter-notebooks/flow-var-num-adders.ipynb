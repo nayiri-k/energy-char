{
 "cells": [
  {
   "cell_type": "markdown",
   "metadata": {},
   "source": [
    "# Add flow\n",
    "\n",
    "    syn to see what timing is --> CLOCK PERIOD\n",
    "    power-rtl to generate checkpoint\n",
    "\n",
    "    generate testbench (vectors, clock period)\n",
    "    sim-rtl\n",
    "    redo-power-rtl (load checkpoint)\n"
   ]
  },
  {
   "cell_type": "code",
   "execution_count": 132,
   "metadata": {},
   "outputs": [],
   "source": [
    "import yaml\n",
    "import os\n",
    "import textwrap\n",
    "import random\n",
    "import matplotlib.pyplot as plt\n",
    "import numpy as np\n",
    "#from concurrent.futures import ThreadPoolExecutor\n",
    "\n",
    "design='add8'\n",
    "pdk='sky130'\n",
    "# pdk='intech22'\n",
    "tools='cm'\n",
    "\n",
    "dut_instance='adder0'\n",
    "root_dir=os.path.abspath(f\"{os.getcwd()}/../\")\n",
    "build_dir=f\"{root_dir}/build-{pdk}-{tools}/{design}\"\n",
    "out_dir=os.path.abspath(f\"{os.getcwd()}/../../out\")\n",
    "jpower_reports_dir = f\"{out_dir}/jpower-reports/{design}-{pdk}\"\n",
    "generated_src_dir = f\"{root_dir}/generated-src\"\n",
    "generated_configs_dir = f\"{root_dir}/generated-configs\"\n",
    "bsub=\"bsub -q normal\"\n",
    "overwrite=True\n",
    "\n",
    "os.makedirs(generated_src_dir, exist_ok=True)\n",
    "os.makedirs(generated_configs_dir, exist_ok=True)"
   ]
  },
  {
   "cell_type": "markdown",
   "metadata": {},
   "source": [
    "## Useful Functions"
   ]
  },
  {
   "cell_type": "code",
   "execution_count": 192,
   "metadata": {},
   "outputs": [],
   "source": [
    "def get_test_name(tb_name):\n",
    "    args = tb_name.replace('_-','_n').split('-')\n",
    "    in0_args = args[1].split('_')\n",
    "    in1_args = args[2].split('_')\n",
    "    in0_initial = in0_args[1].replace('n','-')\n",
    "    in0 = in0_args[2].replace('n','-')\n",
    "    in1_initial = in1_args[1].replace('n','-')\n",
    "    in1 = in1_args[2].replace('n','-')\n",
    "    ret = f\"({in0_initial},{in1_initial}) -> ({in0} + {in1})\"\n",
    "    return ret\n",
    "\n",
    "def generate_verilog_fanout(num_adders):\n",
    "    def gen_verilog(in_vals, in_initial=(0,0), seed=10, CLOCK_PERIOD=1):\n",
    "        in0_initial,in1_initial = in_initial\n",
    "        in0,in1 = in_vals\n",
    "        tb_name=f\"add8-in0_{in0_initial}_{in0}-in1_{in1_initial}_{in1}_fanout{num_adders}\"\n",
    "\n",
    "        random.seed(seed)\n",
    "        adder_ins = \"\"\n",
    "        adder_outs = \"\"\n",
    "        adders = \"\"\n",
    "        in_fs = \"\"\n",
    "        for i in range(num_adders):\n",
    "            #adder_ins += f\"reg [`WIDTH-1:0] in_f{i};\\n                \"\n",
    "            adder_ins += f\"reg [`WIDTH-1:0] in_f{i};\\n{16*' '}\"\n",
    "            adder_outs += f\"wire [`WIDTH-1:0] out_f{i};\\n{16*' '}\"\n",
    "            adders += f\"add8 add8_f{i} ( .clock(clk), .in0(out), .in1(in_f{i}), .out(out_f{i}) );\\n{16*' '}\"\n",
    "            in_fs += f\"in_f{i} = `WIDTH'd{abs(random.randint(0, 127))};\\n{20*' '}\" \n",
    "\n",
    "        verilog=f\"\"\"\\\n",
    "            `timescale 1ns/10ps\n",
    "            \n",
    "            `define WIDTH 8\n",
    "            \n",
    "            module add8_tb;\n",
    "            \n",
    "                reg clk = 0;\n",
    "                always #({CLOCK_PERIOD}/2.0) clk = ~clk;\n",
    "            \n",
    "                reg [`WIDTH-1:0] in0, in1;\n",
    "                wire [`WIDTH-1:0] out;\n",
    "                // Generated adders' inputs and outputs: \n",
    "                {adder_ins}\n",
    "                {adder_outs}\n",
    "            \n",
    "                add8 add8_dut ( .clock(clk), .in0(in0), .in1(in1), .out(out) );\n",
    "                // Generated adders:\n",
    "                {adders}\n",
    "            \n",
    "                initial begin\n",
    "                    in0 = {'-' if in0_initial < 0 else ''}`WIDTH'd{abs(in0_initial)}; in1 = {'-' if in1_initial < 0 else ''}`WIDTH'd{abs(in1_initial)};\n",
    "                    @(negedge clk);\n",
    "                    $fsdbDumpfile(\"{tb_name}.fsdb\"); \n",
    "                    $fsdbDumpvars(\"+all\"); \n",
    "                    $fsdbDumpon;\n",
    "                    in0 = {'-' if in0 < 0 else ''}`WIDTH'd{abs(in0)}; in1 = {'-' if in1 < 0 else ''}`WIDTH'd{abs(in1)}; \n",
    "                    {in_fs}\n",
    "                    @(posedge clk);\n",
    "                    @(negedge clk);\n",
    "                    $fsdbDumpoff;\n",
    "                    $finish;\n",
    "                end\n",
    "            endmodule \n",
    "            \"\"\"\n",
    "\n",
    "        with open(f\"{generated_src_dir}/{tb_name}.v\",'w') as f:\n",
    "            f.write(textwrap.dedent(verilog))\n",
    "        return tb_name\n",
    "    return gen_verilog\n",
    "\n",
    "def generate_verilog(in_vals, in_initial=(0,0), CLOCK_PERIOD=1):\n",
    "    in0_initial,in1_initial = in_initial\n",
    "    in0,in1 = in_vals\n",
    "    tb_name=f\"add8-in0_{in0_initial}_{in0}-in1_{in1_initial}_{in1}\"\n",
    "    verilog=f\"\"\"\\\n",
    "    `timescale 1ns/10ps\n",
    "\n",
    "    `define WIDTH 8\n",
    "\n",
    "    module add8_tb;\n",
    "\n",
    "        reg clk = 0;\n",
    "        always #({CLOCK_PERIOD}/2.0) clk = ~clk;\n",
    "\n",
    "        reg [`WIDTH-1:0] in0, in1;\n",
    "        wire [`WIDTH-1:0] out;\n",
    "\n",
    "        add8 add8_dut ( .clock(clk), .in0(in0), .in1(in1), .out(out) );\n",
    "\n",
    "        initial begin\n",
    "            in0 = {'-' if in0_initial < 0 else ''}`WIDTH'd{abs(in0_initial)}; in1 = {'-' if in1_initial < 0 else ''}`WIDTH'd{abs(in1_initial)};\n",
    "            @(negedge clk);\n",
    "            $fsdbDumpfile(\"{tb_name}.fsdb\"); \n",
    "            $fsdbDumpvars(\"+all\"); \n",
    "            $fsdbDumpon;\n",
    "            in0 = {'-' if in0 < 0 else ''}`WIDTH'd{abs(in0)}; in1 = {'-' if in1 < 0 else ''}`WIDTH'd{abs(in1)};\n",
    "            @(posedge clk); \n",
    "            @(negedge clk);\n",
    "            $fsdbDumpoff; \n",
    "            $finish;\n",
    "        end\n",
    "    endmodule\n",
    "    \"\"\"\n",
    "\n",
    "    with open(f\"{generated_src_dir}/{tb_name}.v\",'w') as f:\n",
    "        f.write(verilog)\n",
    "    return tb_name\n",
    "\n",
    "def generate_config(tb_name, adder_fanout, fanout_lim, fixed=False):\n",
    "    waveform = \"\"\n",
    "    if fixed == True:\n",
    "        waveform = f\"{root_dir}/build-{pdk}-{tools}/{design}-branch_0_to_{fanout_lim}/{tb_name}/sim-rtl-rundir/{tb_name}.fsdb\"\n",
    "    else:\n",
    "        waveform = f\"{root_dir}/build-{pdk}-{tools}/{design}-branch{adder_fanout}/{tb_name}/sim-rtl-rundir/{tb_name}.fsdb\"\n",
    "\n",
    "    cfg = {\n",
    "        'vlsi.core.power_tool': \"hammer.power.joules\",\n",
    "\n",
    "        'power.inputs':\n",
    "        {\n",
    "            'level': 'rtl',\n",
    "            'input_files': [\"src/add8.v\"],\n",
    "            'top_module': \"add8\",\n",
    "            'tb_name': \"add8_tb\",\n",
    "            'tb_dut': \"add8_dut\",\n",
    "            'waveforms': [],\n",
    "            # 'waveforms': [\"build-intech22-cm/add8/sim-rtl-rundir/output.fsdb\"],\n",
    "            'report_configs':[\n",
    "                {\n",
    "                # 'waveform_path': f\"{build_dir}/sim-rtl-rundir/{tb_name}.fsdb\",\n",
    "                #'waveform_path': f\"{root_dir}/build-{pdk}-{tools}/{tb_name}/sim-rtl-rundir/{tb_name}.fsdb\",\n",
    "                #'waveform_path': f\"{root_dir}/build-{pdk}-{tools}/{design}-branch{adder_fanout}/{tb_name}/sim-rtl-rundir/{tb_name}.fsdb\",\n",
    "                 'waveform_path': f\"{waveform}\",\n",
    "                # 'interval_size': '0.5ns',\n",
    "                'toggle_signal': 'clock',\n",
    "                'num_toggles': 1,\n",
    "                'report_name': tb_name,\n",
    "                'output_formats': ['plot_profile', 'report']\n",
    "                }\n",
    "            ]\n",
    "        },\n",
    "        'power.inputs.power_spec': \"auto\",\n",
    "        # sim clock has to match synthesized clock period\n",
    "        'sim.inputs':\n",
    "        {\n",
    "            'input_files': ['src/add8.v', f'{generated_src_dir}/{tb_name}.v'],\n",
    "            'defines': [\"CLOCK_PERIOD=1\"],\n",
    "            'defines_meta': 'append',\n",
    "            'options': ['-timescale=1ns/10ps'],\n",
    "            'options_meta': 'append',\n",
    "        },\n",
    "        'vlsi.inputs.clocks': [\n",
    "            {'name': \"clock\", 'period': \"1ns\", 'uncertainty': \"10ps\"}\n",
    "        ]\n",
    "    }\n",
    "    with open(f\"{generated_configs_dir}/{tb_name}.yml\",'w') as f:\n",
    "        yaml.dump(cfg,f,sort_keys=False)\n"
   ]
  },
  {
   "cell_type": "code",
   "execution_count": 94,
   "metadata": {},
   "outputs": [
    {
     "name": "stdout",
     "output_type": "stream",
     "text": [
      "\n",
      "make syn design=add8 pdk=sky130 -B\n",
      "make power-rtl design=add8 pdk=sky130 -B\n",
      "\n"
     ]
    }
   ],
   "source": [
    "# one-time design setup\n",
    "print(f\"\"\"\n",
    "make syn design={design} pdk={pdk} -B\n",
    "make power-rtl design={design} pdk={pdk} -B\n",
    "\"\"\")"
   ]
  },
  {
   "cell_type": "code",
   "execution_count": 161,
   "metadata": {},
   "outputs": [],
   "source": [
    "in0_initial=0\n",
    "in1_initial=0\n",
    "in0=7\n",
    "in1=6\n",
    "\n",
    "hammer_cmds_file = \"hammer_cmds\"\n",
    "adder_fanout_num = 8\n",
    "random.seed(10)\n",
    "\n",
    "tests = []\n",
    "\n",
    "def rand_pair():\n",
    "    return (random.randint(-127,127),random.randint(-127,127))\n",
    "\n",
    "def generate_rand_pairs():\n",
    "    with open(f\"{root_dir}/{hammer_cmds_file}\",'w') as hammer_cmds:\n",
    "        for in_data in [(0,0),(85,85),rand_pair(),rand_pair()]:\n",
    "            for in_initial in [(0,0),(-86,-86),(-1,-1),rand_pair()]:\n",
    "                #tb_name=generate_verilog(in_data,in_initial)\n",
    "                tb_name=generate_verilog_fanout(adder_fanout_num)(in_data,in_initial, 10)\n",
    "                generate_config(tb_name, adder_fanout_num)\n",
    "                cmd = \"\"\n",
    "                #fsdb_path = f\"{root_dir}/build-{pdk}-{tools}/{tb_name}/sim-rtl-rundir/{tb_name}.fsdb\"\n",
    "                fsdb_path = f\"{root_dir}/build-{pdk}-{tools}/{design}-branch{adder_fanout_num}/{tb_name}/sim-rtl-rundir/{tb_name}.fsdb\"\n",
    "                if overwrite or not os.path.exists(fsdb_path):\n",
    "                    #cmd += f\"\"\"make sim-rtl design={design} pdk={pdk} POWER_CONF={generated_configs_dir}/{tb_name}.yml OBJ_DIR=build-{pdk}-{tools}/{tb_name}\"\"\"\n",
    "                    cmd += f\"\"\"make sim-rtl design={design} pdk={pdk} POWER_CONF={generated_configs_dir}/{tb_name}.yml OBJ_DIR=build-{pdk}-{tools}/{design}-branch{adder_fanout_num}/{tb_name}\"\"\"\n",
    "                rpt_path = f\"{build_dir}/power-rtl-rundir/reports/{tb_name}.power.rpt\"\n",
    "                if overwrite or not os.path.exists(rpt_path):\n",
    "                    if len(cmd) > 0: cmd += \" && \"\n",
    "                    cmd += f\"\"\"make redo-power-rtl args=\"--only_step report_power\" design={design} pdk={pdk} POWER_CONF={generated_configs_dir}/{tb_name}.yml \"\"\"\n",
    "                if len(cmd) > 0:\n",
    "                    #print(f\"{bsub} '{cmd}'\")\n",
    "                    print(cmd)\n",
    "                    hammer_cmds.write(f\"{cmd}\\n\")\n",
    "                tests.append(tb_name)       \n",
    "\n",
    "def generate_fixed(fixed_in_pair, fixed_initial_pair, fanout_lim):\n",
    "    with open(f\"{root_dir}/{hammer_cmds_file}\",'w') as hammer_cmds:\n",
    "        for i in range(fanout_lim):\n",
    "            tb_name = generate_verilog_fanout(i)(fixed_in_pair, fixed_initial_pair)\n",
    "            generate_config(tb_name, i, fanout_lim, fixed=True)\n",
    "            cmd = \"\"\n",
    "            fsdb_path = f\"{root_dir}/build-{pdk}-{tools}/{design}-branch{adder_fanout_num}/{tb_name}/sim-rtl-rundir/{tb_name}.fsdb\"\n",
    "            if overwrite or not os.path.exists(fsdb_path):\n",
    "                cmd += f\"\"\"make sim-rtl design={design} pdk={pdk} POWER_CONF={generated_configs_dir}/{tb_name}.yml OBJ_DIR=build-{pdk}-{tools}/{design}-branch_0_to_{fanout_lim}/{tb_name}\"\"\"\n",
    "            rpt_path = f\"{build_dir}/power-rtl-rundir/reports/{tb_name}.power.rpt\"\n",
    "            if overwrite or not os.path.exists(rpt_path):\n",
    "                if len(cmd) > 0: cmd += \" && \"\n",
    "                cmd += f\"\"\"make redo-power-rtl args=\"--only_step report_power\" design={design} pdk={pdk} POWER_CONF={generated_configs_dir}/{tb_name}.yml \"\"\"\n",
    "            if len(cmd) > 0:\n",
    "                print(cmd)\n",
    "                hammer_cmds.write(f\"{cmd}\\n\")\n",
    "            tests.append(tb_name)       "
   ]
  },
  {
   "cell_type": "markdown",
   "metadata": {},
   "source": [
    "## Select branching factor limit and the operands"
   ]
  },
  {
   "cell_type": "code",
   "execution_count": 162,
   "metadata": {},
   "outputs": [],
   "source": [
    "lim = 8\n",
    "initial_operands = (0, 127)\n",
    "incoming_operands = (-128, 0)"
   ]
  },
  {
   "cell_type": "markdown",
   "metadata": {},
   "source": [
    "## Generate configs and testbenches"
   ]
  },
  {
   "cell_type": "code",
   "execution_count": 193,
   "metadata": {},
   "outputs": [
    {
     "name": "stdout",
     "output_type": "stream",
     "text": [
      "make sim-rtl design=add8 pdk=sky130 POWER_CONF=/bwrcq/scratch/alexvolkov/energy-char/generated-configs/add8-in0_3_-100-in1_-1_100_fanout0.yml OBJ_DIR=build-sky130-cm/add8-branch_0_to_8/add8-in0_3_-100-in1_-1_100_fanout0 && make redo-power-rtl args=\"--only_step report_power\" design=add8 pdk=sky130 POWER_CONF=/bwrcq/scratch/alexvolkov/energy-char/generated-configs/add8-in0_3_-100-in1_-1_100_fanout0.yml \n",
      "make sim-rtl design=add8 pdk=sky130 POWER_CONF=/bwrcq/scratch/alexvolkov/energy-char/generated-configs/add8-in0_3_-100-in1_-1_100_fanout1.yml OBJ_DIR=build-sky130-cm/add8-branch_0_to_8/add8-in0_3_-100-in1_-1_100_fanout1 && make redo-power-rtl args=\"--only_step report_power\" design=add8 pdk=sky130 POWER_CONF=/bwrcq/scratch/alexvolkov/energy-char/generated-configs/add8-in0_3_-100-in1_-1_100_fanout1.yml \n",
      "make sim-rtl design=add8 pdk=sky130 POWER_CONF=/bwrcq/scratch/alexvolkov/energy-char/generated-configs/add8-in0_3_-100-in1_-1_100_fanout2.yml OBJ_DIR=build-sky130-cm/add8-branch_0_to_8/add8-in0_3_-100-in1_-1_100_fanout2 && make redo-power-rtl args=\"--only_step report_power\" design=add8 pdk=sky130 POWER_CONF=/bwrcq/scratch/alexvolkov/energy-char/generated-configs/add8-in0_3_-100-in1_-1_100_fanout2.yml \n",
      "make sim-rtl design=add8 pdk=sky130 POWER_CONF=/bwrcq/scratch/alexvolkov/energy-char/generated-configs/add8-in0_3_-100-in1_-1_100_fanout3.yml OBJ_DIR=build-sky130-cm/add8-branch_0_to_8/add8-in0_3_-100-in1_-1_100_fanout3 && make redo-power-rtl args=\"--only_step report_power\" design=add8 pdk=sky130 POWER_CONF=/bwrcq/scratch/alexvolkov/energy-char/generated-configs/add8-in0_3_-100-in1_-1_100_fanout3.yml \n",
      "make sim-rtl design=add8 pdk=sky130 POWER_CONF=/bwrcq/scratch/alexvolkov/energy-char/generated-configs/add8-in0_3_-100-in1_-1_100_fanout4.yml OBJ_DIR=build-sky130-cm/add8-branch_0_to_8/add8-in0_3_-100-in1_-1_100_fanout4 && make redo-power-rtl args=\"--only_step report_power\" design=add8 pdk=sky130 POWER_CONF=/bwrcq/scratch/alexvolkov/energy-char/generated-configs/add8-in0_3_-100-in1_-1_100_fanout4.yml \n",
      "make sim-rtl design=add8 pdk=sky130 POWER_CONF=/bwrcq/scratch/alexvolkov/energy-char/generated-configs/add8-in0_3_-100-in1_-1_100_fanout5.yml OBJ_DIR=build-sky130-cm/add8-branch_0_to_8/add8-in0_3_-100-in1_-1_100_fanout5 && make redo-power-rtl args=\"--only_step report_power\" design=add8 pdk=sky130 POWER_CONF=/bwrcq/scratch/alexvolkov/energy-char/generated-configs/add8-in0_3_-100-in1_-1_100_fanout5.yml \n",
      "make sim-rtl design=add8 pdk=sky130 POWER_CONF=/bwrcq/scratch/alexvolkov/energy-char/generated-configs/add8-in0_3_-100-in1_-1_100_fanout6.yml OBJ_DIR=build-sky130-cm/add8-branch_0_to_8/add8-in0_3_-100-in1_-1_100_fanout6 && make redo-power-rtl args=\"--only_step report_power\" design=add8 pdk=sky130 POWER_CONF=/bwrcq/scratch/alexvolkov/energy-char/generated-configs/add8-in0_3_-100-in1_-1_100_fanout6.yml \n",
      "make sim-rtl design=add8 pdk=sky130 POWER_CONF=/bwrcq/scratch/alexvolkov/energy-char/generated-configs/add8-in0_3_-100-in1_-1_100_fanout7.yml OBJ_DIR=build-sky130-cm/add8-branch_0_to_8/add8-in0_3_-100-in1_-1_100_fanout7 && make redo-power-rtl args=\"--only_step report_power\" design=add8 pdk=sky130 POWER_CONF=/bwrcq/scratch/alexvolkov/energy-char/generated-configs/add8-in0_3_-100-in1_-1_100_fanout7.yml \n"
     ]
    }
   ],
   "source": [
    "generate_fixed(incoming_operands, initial_operands, lim)"
   ]
  },
  {
   "cell_type": "code",
   "execution_count": null,
   "metadata": {},
   "outputs": [],
   "source": [
    "# Parallelize\n",
    "\n",
    "#hmr_cmd = []\n",
    "#with open(f\"{root_dir}/{hammer_cmds_file}\", 'r') as hammer_cmds:\n",
    "#    hmr_cmd = hammer_cmds.readlines()\n",
    "#hmr_cmd\n",
    "#notebook_dir = os.getcwd()\n",
    "#os.chdir(root_dir)\n",
    "#with ThreadPoolExecutor() as exec:\n",
    "#    exec.map(os.system, hmr_cmd)\n",
    "#os.chdir(notebook_dir)"
   ]
  },
  {
   "cell_type": "markdown",
   "metadata": {},
   "source": [
    "## Displaying results"
   ]
  },
  {
   "cell_type": "code",
   "execution_count": null,
   "metadata": {},
   "outputs": [],
   "source": [
    "tests_dict = {t: {} for t in tests}\n",
    "tests_dict"
   ]
  },
  {
   "cell_type": "code",
   "execution_count": 166,
   "metadata": {},
   "outputs": [
    {
     "data": {
      "text/plain": [
       "(35, 447.367)"
      ]
     },
     "execution_count": 166,
     "metadata": {},
     "output_type": "execute_result"
    }
   ],
   "source": [
    "### area\n",
    "with open(f\"{build_dir}/syn-rundir/reports/final_area.rpt\",'r') as f:\n",
    "    for line in f.readlines():\n",
    "        if line.strip().startswith(dut_instance) and len(line.split())==6:\n",
    "            words = line.split()\n",
    "            cell_count=int(words[2])\n",
    "            area=float(words[-1])\n",
    "\n",
    "cell_count,area"
   ]
  },
  {
   "cell_type": "code",
   "execution_count": 171,
   "metadata": {},
   "outputs": [],
   "source": [
    "### avg power\n",
    "# todo: generate this earlier when generating joules yaml file\n",
    "for tb_name in tests_dict:\n",
    "    power_rpt_fpath = f\"{build_dir}/power-rtl-rundir/reports/{tb_name}.hier.power.rpt\"\n",
    "    if not os.path.exists(power_rpt_fpath):\n",
    "        print(power_rpt_fpath)\n",
    "        continue\n",
    "    with open(power_rpt_fpath,'r') as f:\n",
    "        for line in f.readlines():\n",
    "            if line.strip().endswith(f\"/{design}/{dut_instance}\") and len(line.split())==8:\n",
    "                words = line.split()\n",
    "                tests_dict[tb_name]['leakage_power'] = float(words[2])*1000\n",
    "                tests_dict[tb_name]['internal_power'] = float(words[3])*1000\n",
    "                tests_dict[tb_name]['switching_power'] = float(words[4])*1000\n",
    "                tests_dict[tb_name]['total_power'] = float(words[5])*1000\n",
    "\n",
    "# leakage_power, internal_power, switching_power, total_power"
   ]
  },
  {
   "cell_type": "code",
   "execution_count": 172,
   "metadata": {},
   "outputs": [
    {
     "data": {
      "image/png": "[encoded data removed]",
      "text/plain": [
       "<Figure size 640x480 with 1 Axes>"
      ]
     },
     "metadata": {},
     "output_type": "display_data"
    }
   ],
   "source": [
    "tests_sorted = [t for _,t in sorted([(tests_dict[t]['total_power'],t) for t in tests_dict if 'total_power' in tests_dict[t]])]\n",
    "power_sorted = [tests_dict[t]['total_power'] for t in tests_sorted]\n",
    "switching = [tests_dict[t]['switching_power'] for t in tests_sorted]\n",
    "internal = [tests_dict[t]['internal_power'] for t in tests_sorted]\n",
    "names = list(map(get_test_name,tests_sorted))\n",
    "\n",
    "names2 = [t[-1] for t in tests_sorted]\n",
    "\n",
    "fig, ax = plt.subplots()\n",
    "\n",
    "y_pos = np.arange(len(names2))\n",
    "\n",
    "# ax.barh(y_pos, power_sorted, align='center')\n",
    "ax.barh(y_pos, internal, align='center', color='g', label='Internal Power')\n",
    "ax.barh(y_pos, switching, left=internal, align='center', color='r', label='Switching Power')\n",
    "ax.set_yticks(y_pos, labels=names2)\n",
    "ax.invert_yaxis()  # labels read top-to-bottom\n",
    "ax.set_xlabel('Power (mW)')\n",
    "ax.set_ylabel(f'Add8 Operands, Branching Factors')\n",
    "plt.legend()\n",
    "test_name = list(map(get_test_name, tests_sorted))[0]\n",
    "tb_name = f\"Operands (Prev) -> (Current): {test_name}\"\n",
    "plt.text(-0.1,-1,tb_name,horizontalalignment='left',verticalalignment='center')\n",
    "plt.savefig(f\"{root_dir}/build-{pdk}-{tools}/{design}-branch_0_to_{fanout_limit}/{design}-branch_0_to_{fanout_limit}.png\",bbox_inches='tight')"
   ]
  }
 ],
 "metadata": {
  "kernelspec": {
   "display_name": "energy",
   "language": "python",
   "name": "python3"
  },
  "language_info": {
   "codemirror_mode": {
    "name": "ipython",
    "version": 3
   },
   "file_extension": ".py",
   "mimetype": "text/x-python",
   "name": "python",
   "nbconvert_exporter": "python",
   "pygments_lexer": "ipython3",
   "version": "3.11.6"
  },
  "orig_nbformat": 4
 },
 "nbformat": 4,
 "nbformat_minor": 2
}
