{
 "cells": [
  {
   "cell_type": "markdown",
   "metadata": {},
   "source": [
    "# Sramtest flow for sram22 64x4m4w2"
   ]
  },
  {
   "cell_type": "code",
   "execution_count": 79,
   "metadata": {},
   "outputs": [],
   "source": [
    "import yaml\n",
    "import os\n",
    "import matplotlib.pyplot as plt\n",
    "import numpy as np\n",
    "\n",
    "sram_type = '64x4m4w2'\n",
    "design='sramtest'\n",
    "pdk='sky130'\n",
    "tools='cm'\n",
    "\n",
    "dut_instance='mem0'\n",
    "\n",
    "root_dir=os.path.abspath(f\"{os.getcwd()}/../\")\n",
    "build_dir=f\"{root_dir}/build-{pdk}-{tools}/{design}\"\n",
    "out_dir=os.path.abspath(f\"{os.getcwd()}/../../out\")\n",
    "jpower_reports_dir = f\"{out_dir}/jpower-reports/{design}-{pdk}\"\n",
    "generated_src_dir = f\"{root_dir}/generated-src\"\n",
    "generated_configs_dir = f\"{root_dir}/generated-configs\"\n",
    "bsub=\"bsub -q normal\"\n",
    "overwrite=True\n",
    "\n",
    "os.makedirs(generated_src_dir, exist_ok=True)\n",
    "os.makedirs(generated_configs_dir, exist_ok=True)\n"
   ]
  },
  {
   "cell_type": "code",
   "execution_count": 80,
   "metadata": {},
   "outputs": [],
   "source": [
    "def generate_verilog(write_operand):\n",
    "    tb_name = f\"sramtest_tb_{write_operand}\"\n",
    "    with open(f\"{root_dir}/generated-templates/sramtest_tb_TEMPLATE.v\", 'r') as f:\n",
    "        test = f.read()\n",
    "    operand_format = f\"4'd{write_operand}\"\n",
    "    test = test.replace(\">>OPERAND<<\", operand_format)\n",
    "    test = test.replace(\"sramtest_tb\", tb_name)\n",
    "    with open(f\"{generated_src_dir}/sramtest_tb_{write_operand}.v\", 'w') as f:\n",
    "        f.write(test)\n",
    "    return tb_name"
   ]
  },
  {
   "cell_type": "code",
   "execution_count": 81,
   "metadata": {},
   "outputs": [],
   "source": [
    "def generate_config(tb_name, write_operand):\n",
    "    with open(f\"{root_dir}/generated-templates/sramtest_power_conf_TEMPLATE.yml\", 'r') as f:\n",
    "        config = yaml.safe_load(f)\n",
    "\n",
    "    config['sim.inputs']['tb_name'] = tb_name\n",
    "    config['sim.inputs']['input_files'] = ['src/sramtest.v', f\"{generated_src_dir}/{tb_name}.v\"]\n",
    "\n",
    "    #waveform_path = f\"{root_dir}/build-{pdk}-{tools}/sramtest-write-din-{write_operand}/sim-rtl-rundir/output.fsdb\"\n",
    "    waveform_path = f\"{build_dir}/sramtest-write-din-{write_operand}/sim-rtl-rundir/output.fsdb\"\n",
    "\n",
    "    config['power.inputs']['tb_name'] = tb_name\n",
    "    config['power.inputs']['waveforms'] = [waveform_path]\n",
    "    config['power.inputs']['report_configs'][0]['waveform_path'] = waveform_path\n",
    "\n",
    "    report_name = f\"sram22_{sram_type}-write-din_{write_operand}\"\n",
    "    config['power.inputs']['report_configs'][0]['report_name'] = report_name\n",
    "\n",
    "    with open(f\"{generated_configs_dir}/config_{tb_name}.yml\", 'w') as f:\n",
    "        yaml.dump(config, f, sort_keys=False)\n",
    "    return report_name"
   ]
  },
  {
   "cell_type": "code",
   "execution_count": 82,
   "metadata": {},
   "outputs": [],
   "source": [
    "tests = []\n",
    "hammer_cmds_file = \"hammer_cmds\"\n",
    "with open(f\"{root_dir}/{hammer_cmds_file}\", 'w') as f:\n",
    "    for i in range(1, 16):\n",
    "        tb_name = generate_verilog(i)\n",
    "        report_name = generate_config(tb_name, i)\n",
    "        cmd = \"\"\n",
    "        cmd += f\"make sim-rtl POWER_CONF={generated_configs_dir}/config_{tb_name}.yml OBJ_DIR={build_dir}/sramtest-write-din-{i}\"\n",
    "        cmd += \" && \"\n",
    "        cmd += f\"make redo-power-rtl POWER_CONF={generated_configs_dir}/config_{tb_name}.yml\"\n",
    "        #print(cmd)\n",
    "        f.write(f\"{cmd}\\n\")\n",
    "        tests.append(report_name)"
   ]
  },
  {
   "cell_type": "code",
   "execution_count": 102,
   "metadata": {},
   "outputs": [],
   "source": [
    "dut_instance='mem0'\n",
    "tests_dict = {t: {} for t in tests}     \n",
    "for tb_name in tests_dict:\n",
    "    power_rpt_fpath = f\"{build_dir}/power-rtl-rundir/reports/{tb_name}.hier.power.rpt\"\n",
    "    if not os.path.exists(power_rpt_fpath):\n",
    "        print(power_rpt_fpath)\n",
    "        continue\n",
    "    with open(power_rpt_fpath,'r') as f:\n",
    "        for line in f.readlines():\n",
    "            if line.strip().endswith(f\"/{design}/{dut_instance}\") and len(line.split())==5:\n",
    "                words = line.split()\n",
    "                tests_dict[tb_name]['leakage_power'] = float(words[0])*1000\n",
    "                tests_dict[tb_name]['internal_power'] = float(words[1])*1000\n",
    "                tests_dict[tb_name]['switching_power'] = float(words[2])*1000\n",
    "                tests_dict[tb_name]['total_power'] = float(words[3])*1000"
   ]
  },
  {
   "cell_type": "code",
   "execution_count": 145,
   "metadata": {},
   "outputs": [
    {
     "name": "stdout",
     "output_type": "stream",
     "text": [
      "['sram22_64x4m4w2-write-din_1', 'sram22_64x4m4w2-write-din_10', 'sram22_64x4m4w2-write-din_11', 'sram22_64x4m4w2-write-din_12', 'sram22_64x4m4w2-write-din_13', 'sram22_64x4m4w2-write-din_14', 'sram22_64x4m4w2-write-din_15', 'sram22_64x4m4w2-write-din_2', 'sram22_64x4m4w2-write-din_3', 'sram22_64x4m4w2-write-din_4', 'sram22_64x4m4w2-write-din_5', 'sram22_64x4m4w2-write-din_6', 'sram22_64x4m4w2-write-din_7', 'sram22_64x4m4w2-write-din_8', 'sram22_64x4m4w2-write-din_9']\n"
     ]
    },
    {
     "data": {
      "text/plain": [
       "<matplotlib.legend.Legend at 0x7f129e1ff0d0>"
      ]
     },
     "execution_count": 145,
     "metadata": {},
     "output_type": "execute_result"
    },
    {
     "data": {
      "image/png": "[encoded data removed]",
      "text/plain": [
       "<Figure size 640x480 with 1 Axes>"
      ]
     },
     "metadata": {},
     "output_type": "display_data"
    }
   ],
   "source": [
    "tests_sorted = [t for _,t in sorted([(tests_dict[t]['total_power'],t) for t in tests_dict if 'total_power' in tests_dict[t]])]\n",
    "power_sorted = [tests_dict[t]['total_power'] for t in tests_sorted]\n",
    "switching = [tests_dict[t]['switching_power'] for t in tests_sorted]\n",
    "internal = [tests_dict[t]['internal_power'] for t in tests_sorted]\n",
    "leakage = [tests_dict[t]['leakage_power'] for t in tests_sorted]\n",
    "\n",
    "fig, ax = plt.subplots()\n",
    "\n",
    "y_pos = np.arange(15)\n",
    "\n",
    "bar_width = 0.4\n",
    "ax.barh(y_pos - bar_width/2, leakage, bar_width, color='r', label='Leakage')\n",
    "ax.barh(y_pos + bar_width/2, internal, bar_width, color='g', label='Internal')\n",
    "ax.set_yticks(y_pos)\n",
    "ax.invert_yaxis()\n",
    "ax.set_xlabel('Power (mW)')\n",
    "ax.set_ylabel('Sram 64x4m4w2 Write Operands')\n",
    "plt.legend()"
   ]
  },
  {
   "cell_type": "code",
   "execution_count": null,
   "metadata": {},
   "outputs": [],
   "source": []
  }
 ],
 "metadata": {
  "kernelspec": {
   "display_name": "energy",
   "language": "python",
   "name": "python3"
  },
  "language_info": {
   "codemirror_mode": {
    "name": "ipython",
    "version": 3
   },
   "file_extension": ".py",
   "mimetype": "text/x-python",
   "name": "python",
   "nbconvert_exporter": "python",
   "pygments_lexer": "ipython3",
   "version": "3.11.6"
  }
 },
 "nbformat": 4,
 "nbformat_minor": 2
}
